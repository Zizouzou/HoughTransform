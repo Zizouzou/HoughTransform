{
 "cells": [
  {
   "cell_type": "code",
   "execution_count": 1,
   "metadata": {},
   "outputs": [],
   "source": [
    "import cv2\n",
    "import numpy as np\n",
    "from matplotlib import pyplot as plt\n",
    "from numba import njit, prange"
   ]
  },
  {
   "cell_type": "code",
   "execution_count": 2,
   "metadata": {
    "pycharm": {
     "name": "#%%\n"
    }
   },
   "outputs": [],
   "source": [
    "def add_noise(img, sigma):\n",
    "\n",
    "    noise = np.random.normal(0, sigma, img.shape).astype(np.uint8)\n",
    "    img += noise\n",
    "    cv2.normalize(img, img, 0, 255, cv2.NORM_MINMAX, dtype=-1)\n",
    "\n",
    "\n",
    "def gen_circle(radius, nb_circles, img_shape):\n",
    "\n",
    "    int_rad = np.ceil(radius)\n",
    "    m, n = img_shape\n",
    "    img = np.zeros(img_shape, dtype=np.uint8)\n",
    "\n",
    "    if nb_circles == 1:\n",
    "        x_c, y_c = m//2, n//2\n",
    "        img = cv2.circle(img, (x_c, y_c), radius, [255, 255, 255], thickness=3)\n",
    "    else:\n",
    "        for _ in range(nb_circles):\n",
    "            x_c = np.random.randint(int_rad, m - int_rad, dtype=np.int)\n",
    "            y_c = np.random.randint(int_rad, n - int_rad, dtype=np.int)\n",
    "            img = cv2.circle(img, (x_c, y_c), radius, [255, 255, 255], thickness=3)\n",
    "    return img\n",
    "\n",
    "\n",
    "def processImage(src, cannyLowThresh = 80, cannyHighThresh = 100):\n",
    "\n",
    "    edges = cv2.Canny(src, cannyLowThresh, cannyHighThresh)\n",
    "    x, y = np.nonzero(edges)\n",
    "\n",
    "    dx = cv2.Sobel(src, cv2.CV_64F, 1, 0)\n",
    "    dy = cv2.Sobel(src, cv2.CV_64F, 0, 1)\n",
    "    angles = np.degrees(np.arctan2(dy, dx)).astype(np.int16)\n",
    "\n",
    "    return x, y, angles[x, y]\n",
    "\n",
    "\n",
    "def processTmpl(tmpl, ref_pt):\n",
    "    \"\"\"TODO: Create function to find center of mass for refPoint\"\"\"\"\"\n",
    "    m, n = tmpl.shape\n",
    "\n",
    "    if ref_pt == (-1, -1):\n",
    "        ref_pt = (m//2, n//2)\n",
    "\n",
    "    x, y, phi = processImage(tmpl)\n",
    "\n",
    "    calcDist(x, y, ref_pt)\n",
    "    return x, y, phi\n",
    "\n",
    "\n",
    "def processQuery(query, blur, sigma):\n",
    "\n",
    "    if blur:\n",
    "        query = cv2.GaussianBlur(query, (sigma, sigma), 0)\n",
    "\n",
    "    x, y, phi = processImage(query)\n",
    "    return x, y, phi\n",
    "\n",
    "\n",
    "@njit\n",
    "def increment(accum, indices, vec_x, vec_y):\n",
    "\n",
    "    for i in indices:\n",
    "        x, y = vec_x[i], vec_y[i]\n",
    "        accum[x, y] += 1\n",
    "\n",
    "\n",
    "def calcDist(x, y, ref_pt):\n",
    "\n",
    "    x -= ref_pt[0]\n",
    "    y -= ref_pt[1]\n",
    "\n",
    "\n",
    "@njit\n",
    "def pad(src, size):\n",
    "    m, n = src.shape\n",
    "    dst = np.zeros((m + 2 * size, n + 2 * size), dtype=np.uint8)\n",
    "    dst[size:m + size, size:n + size] = src\n",
    "    return dst"
   ]
  },
  {
   "cell_type": "code",
   "execution_count": 3,
   "metadata": {
    "pycharm": {
     "name": "#%%\n"
    }
   },
   "outputs": [],
   "source": [
    "@njit\n",
    "def build_table(x, y, phi):\n",
    "    r_table = {}\n",
    "    for theta in prange(-180, 180, 1):\n",
    "        indices = np.flatnonzero(phi == theta)\n",
    "        if indices.any():\n",
    "            r_table[theta] = np.vstack((x[indices], y[indices])).T\n",
    "    return r_table\n",
    "\n",
    "\n",
    "@njit\n",
    "def build_accum(x, y, phi, r_table, shape):\n",
    "    m, n = shape\n",
    "    accum = np.zeros(shape, dtype=np.int64)\n",
    "\n",
    "    for angle in r_table:\n",
    "        entries = r_table[angle]\n",
    "        sz = entries.shape[0]\n",
    "        indices = np.flatnonzero(phi == angle)\n",
    "\n",
    "        for i in range(sz):\n",
    "            dx, dy = entries[i][0], entries[i][1]\n",
    "            x_cand, y_cand = x[indices] + dx, y[indices] + dy\n",
    "            cond = (0 <= x_cand) * (x_cand < m) * (0 <= y_cand) * (y_cand < n)\n",
    "            valid_indices = np.flatnonzero(cond)\n",
    "            increment(accum, valid_indices, x_cand, y_cand)\n",
    "\n",
    "    return accum\n",
    "\n",
    "\n",
    "@njit\n",
    "def find_maximas(src, grid_size):\n",
    "    padded_src = pad(src, grid_size)\n",
    "    x_maxs, y_maxs, values = [], [], []\n",
    "    I, J = np.nonzero(padded_src)\n",
    "    for i in range(len(I)):\n",
    "        x, y = I[i], J[i]\n",
    "        value = padded_src[x, y]\n",
    "\n",
    "        grid = np.copy(padded_src[x-grid_size:x+grid_size+1, y-grid_size:y+grid_size + 1])\n",
    "        grid[grid_size, grid_size] = 0\n",
    "\n",
    "        if np.all(value >= grid):\n",
    "            x -= grid_size\n",
    "            y -= grid_size\n",
    "            x_maxs.append(x)\n",
    "            y_maxs.append(y)\n",
    "            values.append(value)\n",
    "    return x_maxs, y_maxs, values\n",
    "\n",
    "\n",
    "@njit\n",
    "def threshold_accum(src, factor=1):\n",
    "    nb_pixels = len(np.nonzero(src)[0])\n",
    "    thresh_value = factor * np.sum(src) // nb_pixels\n",
    "    src = np.where(src > thresh_value, src, 0)\n",
    "    return src"
   ]
  },
  {
   "cell_type": "code",
   "execution_count": 4,
   "metadata": {
    "pycharm": {
     "name": "#%%\n"
    }
   },
   "outputs": [
    {
     "data": {
      "text/plain": [
       "<matplotlib.image.AxesImage at 0x7f197b5b97d0>"
      ]
     },
     "execution_count": 4,
     "metadata": {},
     "output_type": "execute_result"
    },
    {
     "data": {
      "image/png": "[encoded data removed]",
      "text/plain": [
       "<Figure size 432x288 with 2 Axes>"
      ]
     },
     "metadata": {
      "needs_background": "light"
     },
     "output_type": "display_data"
    }
   ],
   "source": [
    "radius = 50\n",
    "shape = (700, 700)\n",
    "noise_level = 0.6\n",
    "nb_circles = 5\n",
    "\n",
    "tmpl = gen_circle(radius, 1, shape)\n",
    "query = gen_circle(radius, nb_circles, shape)\n",
    "add_noise(query, noise_level)\n",
    "\n",
    "plt.subplot(1, 2, 1)\n",
    "plt.title('Template')\n",
    "plt.imshow(tmpl, cmap='gray')\n",
    "\n",
    "plt.subplot(1, 2, 2)\n",
    "plt.title('Query ($\\sigma$ = ' + str(noise_level) + ')')\n",
    "plt.imshow(query, cmap='gray')"
   ]
  },
  {
   "cell_type": "code",
   "execution_count": 5,
   "metadata": {
    "pycharm": {
     "name": "#%%\n"
    }
   },
   "outputs": [
    {
     "data": {
      "text/plain": [
       "[<matplotlib.lines.Line2D at 0x7f196ac1e590>]"
      ]
     },
     "execution_count": 5,
     "metadata": {},
     "output_type": "execute_result"
    },
    {
     "data": {
      "image/png": "[encoded data removed]",
      "text/plain": [
       "<Figure size 432x288 with 2 Axes>"
      ]
     },
     "metadata": {
      "needs_background": "light"
     },
     "output_type": "display_data"
    }
   ],
   "source": [
    "I, J, Phi = processTmpl(tmpl, (-1, -1))\n",
    "R_Table = build_table(I, J, Phi)\n",
    "\n",
    "I, J, Phi = processQuery(query, False, 3)\n",
    "Accum = build_accum(I, J, Phi, R_Table, shape)\n",
    "Accum = threshold_accum(Accum, 4.5)\n",
    "\n",
    "x_m, y_m, v_m = find_maximas(Accum, 15)\n",
    "\n",
    "plt.subplot(1, 2, 1)\n",
    "plt.title('Accum')\n",
    "plt.imshow(Accum, cmap='gray')\n",
    "plt.plot(y_m, x_m, 'x')\n",
    "\n",
    "plt.subplot(1, 2, 2)\n",
    "plt.title('Query')\n",
    "plt.imshow(query, cmap='gray')\n",
    "plt.plot(y_m, x_m, 'x')"
   ]
  },
  {
   "cell_type": "code",
   "execution_count": 6,
   "metadata": {
    "pycharm": {
     "name": "#%%\n"
    }
   },
   "outputs": [],
   "source": [
    "@njit(parallel=True, cache=True)\n",
    "def cast_to_int(M):\n",
    "    m, n = M.shape\n",
    "    N = np.empty_like(M, dtype=np.int64)\n",
    "    for i in prange(m):\n",
    "        for j in prange(n):\n",
    "            N[i, j] = int(np.round(M[i, j]))\n",
    "    return N\n",
    "\n",
    "\n",
    "def gen_circle(radius, nb_circles, img_shape):\n",
    "    \n",
    "    radius4 = np.ceil(radius)\n",
    "    rad_range = (0.4 * radius, 2 * radius)\n",
    "    m, n = img_shape\n",
    "    img = np.zeros(img_shape, dtype=np.uint8)\n",
    "\n",
    "    if nb_circles == 1:\n",
    "        x_c, y_c = m//2, n//2\n",
    "        img = cv2.circle(img, (x_c, y_c), radius, [255, 255, 255], thickness=3)\n",
    "    else:\n",
    "        for _ in range(nb_circles):\n",
    "            radius = np.random.randint(rad_range[0], rad_range[1], dtype=np.int)\n",
    "            x_c = np.random.randint(radius, m - radius, dtype=np.int)\n",
    "            y_c = np.random.randint(radius, n - radius, dtype=np.int)\n",
    "            img = cv2.circle(img, (x_c, y_c), radius, [255, 255, 255], thickness=3)\n",
    "    return img"
   ]
  },
  {
   "cell_type": "code",
   "execution_count": 7,
   "metadata": {
    "pycharm": {
     "name": "#%%\n"
    }
   },
   "outputs": [],
   "source": [
    "@njit\n",
    "def scale_matrix(M, scale):\n",
    "    M = M.astype(np.float64) * scale\n",
    "    return cast_to_int(M)\n",
    "\n",
    "\n",
    "@njit\n",
    "def scale_table(table, scale):\n",
    "    new_table = {}\n",
    "    for phi in table:\n",
    "        new_table[phi] = scale_matrix(table[phi], scale)\n",
    "    return new_table\n",
    "\n",
    "@njit\n",
    "def build_all_accums(pos_x, pos_y, pos_phi, table, shape, thresh = 3, grid_size=10):\n",
    "    I, J, M = [], [], []\n",
    "    for s in np.arange(0.2, 5, 0.02):\n",
    "        new_table = scale_table(table, s)\n",
    "        new_acc = build_accum(pos_x, pos_y, pos_phi, new_table, shape)\n",
    "        new_acc = threshold_accum(new_acc, thresh)\n",
    "        x, y, values = find_maximas(new_acc, 10)\n",
    "        if x:\n",
    "            I.append(x)\n",
    "            J.append(y)\n",
    "            M.append(values)\n",
    "    return I, J, M"
   ]
  },
  {
   "cell_type": "code",
   "execution_count": 8,
   "metadata": {},
   "outputs": [
    {
     "data": {
      "text/plain": [
       "<matplotlib.image.AxesImage at 0x7f196ac05050>"
      ]
     },
     "execution_count": 8,
     "metadata": {},
     "output_type": "execute_result"
    },
    {
     "data": {
      "image/png": "[encoded data removed]",
      "text/plain": [
       "<Figure size 432x288 with 2 Axes>"
      ]
     },
     "metadata": {
      "needs_background": "light"
     },
     "output_type": "display_data"
    }
   ],
   "source": [
    "radius = 70\n",
    "shape = (700, 700)\n",
    "noise_level = 0.5\n",
    "nb_circles = 3\n",
    "\n",
    "tmpl = gen_circle(radius, 1, shape)\n",
    "query = gen_circle(radius, nb_circles, shape)\n",
    "add_noise(query, noise_level)\n",
    "\n",
    "plt.subplot(1, 2, 1)\n",
    "plt.title('Template')\n",
    "plt.imshow(tmpl, cmap='gray')\n",
    "\n",
    "plt.subplot(1, 2, 2)\n",
    "plt.title('Query ($\\sigma$ = ' + str(noise_level) + ')')\n",
    "plt.imshow(query, cmap='gray')"
   ]
  },
  {
   "cell_type": "code",
   "execution_count": 9,
   "metadata": {
    "pycharm": {
     "name": "#%%\n"
    }
   },
   "outputs": [],
   "source": [
    "I, J, Phi = processTmpl(tmpl, (-1, -1))\n",
    "R_Table = build_table(I, J, Phi)\n",
    "\n",
    "I, J, Phi = processQuery(query, False, 3)\n",
    "\n",
    "X, Y, V = build_all_accums(I, J, Phi, R_Table, shape, 3, 25)\n",
    "X = np.concatenate([np.array(i) for i in X])\n",
    "Y = np.concatenate([np.array(i) for i in Y])\n",
    "V = np.concatenate([np.array(i) for i in V])"
   ]
  },
  {
   "cell_type": "code",
   "execution_count": 10,
   "metadata": {
    "pycharm": {
     "name": "#%%\n"
    }
   },
   "outputs": [
    {
     "data": {
      "text/plain": [
       "[<matplotlib.lines.Line2D at 0x7f196b664e10>]"
      ]
     },
     "execution_count": 10,
     "metadata": {},
     "output_type": "execute_result"
    },
    {
     "data": {
      "image/png": "[encoded data removed]",
      "text/plain": [
       "<Figure size 432x288 with 2 Axes>"
      ]
     },
     "metadata": {
      "needs_background": "light"
     },
     "output_type": "display_data"
    }
   ],
   "source": [
    "V = V / np.max(V)\n",
    "thresh = 0.5\n",
    "\n",
    "x_m, y_m = X[V > thresh], Y[V > thresh]\n",
    "\n",
    "plt.subplot(1, 2, 1)\n",
    "plt.title('Accum')\n",
    "plt.imshow(Accum, cmap='gray')\n",
    "plt.plot(y_m, x_m, 'x')\n",
    "\n",
    "plt.subplot(1, 2, 2)\n",
    "plt.title('Query')\n",
    "plt.imshow(query, cmap='gray')\n",
    "plt.plot(y_m, x_m, 'x')"
   ]
  }
 ],
 "metadata": {
  "kernelspec": {
   "display_name": "Python 3",
   "language": "python",
   "name": "python3"
  },
  "language_info": {
   "codemirror_mode": {
    "name": "ipython",
    "version": 3
   },
   "file_extension": ".py",
   "mimetype": "text/x-python",
   "name": "python",
   "nbconvert_exporter": "python",
   "pygments_lexer": "ipython3",
   "version": "3.7.5"
  }
 },
 "nbformat": 4,
 "nbformat_minor": 1
}
