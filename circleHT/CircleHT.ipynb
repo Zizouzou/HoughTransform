{
 "nbformat": 4,
 "nbformat_minor": 2,
 "metadata": {
  "language_info": {
   "name": "python",
   "codemirror_mode": {
    "name": "ipython",
    "version": 3
   },
   "version": "3.7.5-final"
  },
  "orig_nbformat": 2,
  "file_extension": ".py",
  "mimetype": "text/x-python",
  "name": "python",
  "npconvert_exporter": "python",
  "pygments_lexer": "ipython3",
  "version": 3,
  "kernelspec": {
   "name": "python37564bit4c92051c0465449f8d66730569ff718f",
   "display_name": "Python 3.7.5 64-bit"
  }
 },
 "cells": [
  {
   "cell_type": "code",
   "execution_count": 5,
   "metadata": {},
   "outputs": [],
   "source": [
    "import numpy as np\n",
    "import cv2\n",
    "from numba import njit"
   ]
  },
  {
   "cell_type": "code",
   "execution_count": 9,
   "metadata": {},
   "outputs": [],
   "source": [
    "def constructIndices(edges):\n",
    "    ''' This function returns the indices of the non zero edges     \n",
    "    '''\n",
    "    args = np.argwhere(edges > 0)\n",
    "    I = args[:, 1]\n",
    "    J = args[:, 0]\n",
    "    return I, J"
   ]
  },
  {
   "cell_type": "code",
   "execution_count": 10,
   "metadata": {},
   "outputs": [],
   "source": [
    "def findMaxima(hSpace, numOfMaxima, delta):\n",
    "    ''' This function returns the local maximas of the accumulator.\n",
    "        :param accum: The accumulator for the query image.\n",
    "        :param delta: The radius around the local maxima to set to zero.\n",
    "        :rtype: list(tuple)    \n",
    "    '''\n",
    "    maxs = []\n",
    "    \n",
    "    for i in range(numOfMaxima):\n",
    "        \n",
    "        mx = np.argwhere(hSpace == np.max(hSpace))[0]\n",
    "        y, x = mx[0], mx[1]\n",
    "        maxs.append((x ,y))\n",
    "        hSpace[y - delta : y + delta, x - delta : x + delta] = 0\n",
    "        \n",
    "    return maxs"
   ]
  },
  {
   "cell_type": "code",
   "execution_count": 11,
   "metadata": {},
   "outputs": [],
   "source": [
    "@njit\n",
    "def checkBelongs(I, J, x_c, y_c, R):\n",
    "    ''' This function find the indices that a point belongs to a circle.\n",
    "    :param I: int[:] // Indicis of possible circle point \n",
    "    :param x_c: int // x coordinates of the circle.\n",
    "    :param R: int // radius of the circle.\n",
    "    :rtype: int[:]\n",
    "\n",
    "    '''\n",
    "    d = (I - x_c) ** 2 + (J - y_c) ** 2\n",
    "    return np.where(np.abs(d - R ** 2) < 1e-3, 1, 0)"
   ]
  },
  {
   "cell_type": "code",
   "execution_count": 12,
   "metadata": {},
   "outputs": [],
   "source": [
    "@njit(cache=True)\n",
    "def constructAccum(I, J, R, shape):\n",
    "    ''' This function construct the accumulator for a circle with radius R.\n",
    "        :param shape: \n",
    "    '''\n",
    "    m, n = shape\n",
    "    accum = np.zeros((m, n))\n",
    "    for i in range(m):\n",
    "        for j in range(n):\n",
    "            accum[i, j] += np.sum(checkBelongs(I, J, j, i, R))\n",
    "    return accum        "
   ]
  },
  {
   "cell_type": "code",
   "execution_count": 13,
   "metadata": {},
   "outputs": [],
   "source": [
    "## We fix the radius to 58\n",
    "img = 255 - cv2.imread('test2.png', 0)\n",
    "\n",
    "cv2.imshow('Circle', img)\n",
    "cv2.waitKey()\n",
    "cv2.destroyAllWindows()\n",
    "\n",
    "I, J = constructIndices(img)\n",
    "\n",
    "A = constructAccum(I, J, 58, img.shape)\n",
    "\n",
    "maxs = findMaxima(A, 2, 5)\n",
    "\n",
    "for mx in maxs:\n",
    "    cv2.circle(img, mx, 58, (255, 255, 255), 3)\n",
    "\n",
    "cv2.imshow('Circle', img)\n",
    "cv2.waitKey()\n",
    "cv2.destroyAllWindows()"
   ]
  },
  {
   "cell_type": "code",
   "execution_count": 14,
   "metadata": {},
   "outputs": [
    {
     "name": "stdout",
     "output_type": "stream",
     "text": "1 loop, best of 5: 415 ms per loop\n"
    }
   ],
   "source": [
    "%timeit constructAccum(I, J, 58, img.shape)"
   ]
  }
 ]
}