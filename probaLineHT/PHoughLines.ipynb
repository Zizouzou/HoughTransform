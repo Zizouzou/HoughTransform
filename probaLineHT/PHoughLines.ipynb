{
 "nbformat": 4,
 "nbformat_minor": 2,
 "metadata": {
  "language_info": {
   "name": "python",
   "codemirror_mode": {
    "name": "ipython",
    "version": 3
   },
   "version": "3.7.5-final"
  },
  "orig_nbformat": 2,
  "file_extension": ".py",
  "mimetype": "text/x-python",
  "name": "python",
  "npconvert_exporter": "python",
  "pygments_lexer": "ipython3",
  "version": 3,
  "kernelspec": {
   "name": "python37564bit4c92051c0465449f8d66730569ff718f",
   "display_name": "Python 3.7.5 64-bit"
  }
 },
 "cells": [
  {
   "cell_type": "code",
   "execution_count": 1,
   "metadata": {},
   "outputs": [],
   "source": [
    "# LOAD NECESSARY LIBRARIES\n",
    "\n",
    "import numpy as np\n",
    "import cv2\n",
    "\n",
    "def drawRandomLines(NbLines):\n",
    "    img = np.zeros((800, 800))\n",
    "    for i in range(NbLines):\n",
    "        x1 = np.random.randint(low = 0, high=800)\n",
    "        y1 = np.random.randint(low = 0, high=800)\n",
    "        x2 = np.random.randint(low = 0, high=800)\n",
    "        y2 = np.random.randint(low = 0, high=800)\n",
    "        cv2.line(img, (x1, y1), (x2, y2), (255,255,255), 1)\n",
    "    img = np.float32(img)\n",
    "    \n",
    "    return img\n",
    "\n",
    "def drawLine(img, mx, rho_max, m, n):\n",
    "\n",
    "    theta = np.radians(mx[0])\n",
    "    rho = mx[1] - rho_max\n",
    "\n",
    "    c = np.cos(theta)\n",
    "    s = np.sin(theta)\n",
    "    \n",
    "    if np.isclose(s, 0):\n",
    "        pt1 = (0, rho)\n",
    "        pt2 = (n, rho)\n",
    "\n",
    "    else:\n",
    "        pt1 = (int(rho // s), 0)\n",
    "        pt2 = (int(rho // s - c / s * m), m)\n",
    "\n",
    "    cv2.line(img, pt1, pt2, (255,0,255), 3)\n",
    "\n",
    "def show(I, title):\n",
    "    I = np.uint8(I / np.max(I) * 255)\n",
    "    cv2.imshow(title, I)\n",
    "    cv2.waitKey()\n",
    "    cv2.destroyAllWindows()\n",
    "\n"
   ]
  },
  {
   "cell_type": "code",
   "execution_count": 6,
   "metadata": {},
   "outputs": [],
   "source": [
    "def initIndices(edges):\n",
    "    args = np.argwhere(edges > 0)\n",
    "    J = list(args[:, 1])\n",
    "    I = list(args[:, 0])\n",
    "    return I, J"
   ]
  },
  {
   "cell_type": "code",
   "execution_count": 7,
   "metadata": {},
   "outputs": [],
   "source": [
    "# RANDOM SAMPLE FROM INDICES\n",
    "\n",
    "def randomSample(I, J):\n",
    "    N = len(I)\n",
    "    i = np.random.randint(0, N)\n",
    "    x, y = I.pop(i), J.pop(i)\n",
    "    return (x, y)"
   ]
  },
  {
   "cell_type": "code",
   "execution_count": 8,
   "metadata": {},
   "outputs": [],
   "source": [
    "# PERFORM HOUGH TRANSFORM\n",
    "\n",
    "def constructRho(pt):\n",
    "    rho = np.round(pt[0] * COS_TABLE + pt[1] * SIN_TABLE + RHO_MAX)\n",
    "    return np.array(rho, dtype=np.int64)"
   ]
  },
  {
   "cell_type": "code",
   "execution_count": 9,
   "metadata": {},
   "outputs": [],
   "source": [
    "def incrementAccum(accum, maxs):\n",
    "\n",
    "    pt1 = randomSample(I, J)\n",
    "    pt2 = randomSample(I, J)\n",
    "    \n",
    "    rho1 = constructRho(pt1)\n",
    "    rho2 = constructRho(pt2)\n",
    "\n",
    "    max_val = np.max(accum)\n",
    "    max_val = max_val if max_val > THRESHOLD else THRESHOLD\n",
    "\n",
    "    accum[_, rho1] += 1\n",
    "    accum[_, rho2] += 1\n",
    "\n",
    "    val = np.max(accum)\n",
    "    \n",
    "    if val > max_val:\n",
    "        res = np.argwhere(accum == val)[0]\n",
    "        theta, rho = res\n",
    "        \n",
    "        if (theta, rho) not in maxs:\n",
    "            maxs.append((theta, rho))\n",
    "\n",
    "        accum = np.where(accum == val, 0, accum)\n",
    "        \n",
    "    return maxs\n",
    "   "
   ]
  },
  {
   "cell_type": "code",
   "execution_count": 10,
   "metadata": {},
   "outputs": [],
   "source": [
    "def randomHoughLines():\n",
    "    maxs = []\n",
    "    i = 0\n",
    "    accum = np.zeros((180, int(2 * RHO_MAX)))\n",
    "\n",
    "    while(i < NUM_OF_ITERATIONS and len(I) > 1):\n",
    "        maxs = incrementAccum(accum, maxs)\n",
    "\n",
    "    return maxs"
   ]
  },
  {
   "cell_type": "code",
   "execution_count": 13,
   "metadata": {},
   "outputs": [],
   "source": [
    "# INIT ALL CONSTANTS\n",
    "\n",
    "_ = np.arange(0, 180, 1)\n",
    "COS_TABLE = np.cos(np.radians(_))\n",
    "SIN_TABLE = np.sin(np.radians(_))\n",
    "\n",
    "IMAGE_URL = 'tst1.png'\n",
    "   \n",
    "IMAGE = 255 - cv2.imread(IMAGE_URL, 0)\n",
    "EDGES = cv2.Canny(IMAGE, 80, 150)\n",
    "\n",
    "HEIGHT, WIDTH = EDGES.shape\n",
    "RHO_MAX = np.hypot(HEIGHT, WIDTH)\n",
    "\n",
    "THRESHOLD = 10\n",
    "NUM_OF_ITERATIONS = int(HEIGHT * WIDTH * 0.3)\n",
    "\n",
    "I, J = initIndices(EDGES)"
   ]
  },
  {
   "cell_type": "code",
   "execution_count": 14,
   "metadata": {},
   "outputs": [
    {
     "name": "stdout",
     "output_type": "stream",
     "text": "(146, 760)\n(147, 704)\n(147, 703)\n(146, 757)\n"
    }
   ],
   "source": [
    "mxs = randomHoughLines()\n",
    "\n",
    "show(IMAGE, 'Original')\n",
    "\n",
    "for mx in mxs:\n",
    "    print(mx)\n",
    "    drawLine(IMAGE, mx = mx, rho_max = RHO_MAX, m = HEIGHT, n = WIDTH)\n",
    "\n",
    "show(IMAGE, 'Detected')"
   ]
  }
 ]
}