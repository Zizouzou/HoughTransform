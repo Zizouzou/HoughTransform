{
 "cells": [
  {
   "cell_type": "code",
   "execution_count": 1,
   "metadata": {},
   "outputs": [],
   "source": [
    "import numpy as np\n",
    "import cv2\n",
    "from numba import njit, vectorize, float64, int64, prange"
   ]
  },
  {
   "cell_type": "code",
   "execution_count": 24,
   "metadata": {},
   "outputs": [],
   "source": [
    "def constructIndices(img):\n",
    "    args = np.argwhere(img > 0)\n",
    "    m, n = img.shape\n",
    "    I = args[:, 1]\n",
    "    J = args[:, 0]\n",
    "    return I, J"
   ]
  },
  {
   "cell_type": "code",
   "execution_count": 25,
   "metadata": {},
   "outputs": [],
   "source": [
    "@vectorize([int64(int64, int64, int64, int64)], nopython=True)\n",
    "def customMulti(I, J, theta, rho_max):\n",
    "    \n",
    "    theta = np.radians(theta)\n",
    "    \n",
    "    rho = J * np.cos(theta) + I * np.sin(theta) + rho_max\n",
    "\n",
    "    return rho"
   ]
  },
  {
   "cell_type": "code",
   "execution_count": 26,
   "metadata": {},
   "outputs": [],
   "source": [
    "@njit\n",
    "def fillSpace(rho, theta, space):\n",
    "    for r in rho:\n",
    "        space[r, theta] += 1"
   ]
  },
  {
   "cell_type": "code",
   "execution_count": 5,
   "metadata": {},
   "outputs": [],
   "source": [
    "@njit\n",
    "def buildSpace(I, J, rho_max):   \n",
    "    \n",
    "    space = np.zeros((2 * rho_max, 180))\n",
    "    \n",
    "    for theta in prange(180):\n",
    "        rho = customMulti(I, J, theta, rho_max)\n",
    "        fillSpace(rho,theta, space)\n",
    "    \n",
    "    return space\n",
    "        "
   ]
  },
  {
   "cell_type": "code",
   "execution_count": 329,
   "metadata": {},
   "outputs": [],
   "source": [
    "def findMaxima(hSpace, numOfMaxima, dr, dt):\n",
    "    maxs = []\n",
    "    \n",
    "    for i in range(numOfMaxima):\n",
    "        \n",
    "        mx = np.argwhere(hSpace == np.max(hSpace))[0]\n",
    "        maxs.append(mx)\n",
    "        r, t = mx[0], mx[1]\n",
    "        hSpace[r, t] = 0\n",
    "        \n",
    "        \n",
    "    return maxs\n",
    "\n",
    "\n",
    "def drawRandomLines(NbLines):\n",
    "    img = np.zeros((800, 800))\n",
    "    for i in range(NbLines):\n",
    "        x1 = np.random.randint(low = 0, high=800)\n",
    "        y1 = np.random.randint(low = 0, high=800)\n",
    "        x2 = np.random.randint(low = 0, high=800)\n",
    "        y2 = np.random.randint(low = 0, high=800)\n",
    "        cv2.line(img, (x1, y1), (x2, y2), (255,255,255), 1)\n",
    "    img = np.float32(img)\n",
    "    \n",
    "    return img\n",
    "\n",
    "def drawLine(imgC, mx, rho_max, m, n):\n",
    "\n",
    "    theta = np.radians(mx[1])\n",
    "    rho = mx[0] - rho_max\n",
    "\n",
    "    c = np.cos(theta)\n",
    "    s = np.sin(theta)\n",
    "    \n",
    "    if np.isclose(s, 0):\n",
    "        pt1 = (0, rho)\n",
    "        pt2 = (n, rho)\n",
    "\n",
    "    else:\n",
    "        pt1 = (int(rho // s), 0)\n",
    "        pt2 = (int(rho // s - c / s * m), m)\n",
    "\n",
    "    cv2.line(imgC, pt1, pt2, (255,0,255), 3)\n",
    "\n",
    "\n",
    "def show(I, title):\n",
    "    I = np.uint8(I / np.max(I) * 255)\n",
    "    cv2.imshow(title, I)\n",
    "    cv2.waitKey()\n",
    "    cv2.destroyAllWindows()"
   ]
  },
  {
   "cell_type": "code",
   "execution_count": 341,
   "metadata": {},
   "outputs": [],
   "source": [
    "#img = drawRandomLines(NbLines=5)\n",
    "\n",
    "img = cv2.imread('tst5.png', 0)\n",
    "imgC = cv2.imread('tst5.png')\n",
    "edges = cv2.Canny(img, 80, 200)\n",
    "\n",
    "show(imgC, 'Original')\n",
    "\n",
    "I, J = constructIndices(edges)\n",
    "m, n = img.shape\n",
    "rho_max = int(np.hypot(m, n)) \n",
    "\n",
    "hs = buildSpace(I, J, rho_max)\n",
    "\n",
    "mxs = findMaxima(hs, 15, 1, 1)\n",
    "\n",
    "for mx in mxs:\n",
    "    \n",
    "    drawLine(imgC, mx = mx, rho_max = rho_max, m = m, n = n)\n",
    "\n",
    "show(imgC, 'Detected')"
   ]
  },
  {
   "cell_type": "code",
   "execution_count": null,
   "metadata": {},
   "outputs": [],
   "source": []
  }
 ],
 "metadata": {
  "kernelspec": {
   "display_name": "Python 3",
   "language": "python",
   "name": "python3"
  },
  "language_info": {
   "codemirror_mode": {
    "name": "ipython",
    "version": 3
   },
   "file_extension": ".py",
   "mimetype": "text/x-python",
   "name": "python",
   "nbconvert_exporter": "python",
   "pygments_lexer": "ipython3",
   "version": "3.7.5"
  }
 },
 "nbformat": 4,
 "nbformat_minor": 2
}
