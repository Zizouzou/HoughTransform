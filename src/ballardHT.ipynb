{
 "nbformat": 4,
 "nbformat_minor": 2,
 "metadata": {
  "language_info": {
   "name": "python",
   "codemirror_mode": {
    "name": "ipython",
    "version": 3
   },
   "version": "3.7.5-final"
  },
  "orig_nbformat": 2,
  "file_extension": ".py",
  "mimetype": "text/x-python",
  "name": "python",
  "npconvert_exporter": "python",
  "pygments_lexer": "ipython3",
  "version": 3,
  "kernelspec": {
   "name": "python37564bit4c92051c0465449f8d66730569ff718f",
   "display_name": "Python 3.7.5 64-bit"
  }
 },
 "cells": [
  {
   "cell_type": "code",
   "execution_count": 90,
   "metadata": {},
   "outputs": [],
   "source": [
    "## Load useful libraries\n",
    "import numpy as np\n",
    "from numba import njit\n",
    "from cv2 import filter2D, imread, imshow, waitKey, destroyAllWindows\n",
    "from collections import defaultdict"
   ]
  },
  {
   "cell_type": "code",
   "execution_count": 101,
   "metadata": {},
   "outputs": [],
   "source": [
    "def show(img, normalize = False, title = 'DEFAULT', delay=0):\n",
    "    ''' Function for image display.'''\n",
    "    if normalize:\n",
    "        img = (img // np.max(img) * 255).astype(np.uint8)\n",
    "    \n",
    "    imshow(title, img)\n",
    "    waitKey(delay)\n",
    "    destroyAllWindows()"
   ]
  },
  {
   "cell_type": "code",
   "execution_count": 92,
   "metadata": {},
   "outputs": [],
   "source": [
    "def getSobel(img, threshold=50):\n",
    "    ''' This function approximates the derivatives of an image by convolving with Sobel kernels.\n",
    "        :param img: Grayscale image of type np.ndarray.\n",
    "        :param threshold: Threshold the results of the convolution with this value. Defaults to 50.\n",
    "        :rtype: Tuple(int[:, :], int[:, :]).\n",
    "        '''\n",
    "\n",
    "    sobel = np.array([[-1, 0, 1], [-2, 0, 2], [-1, 0, 1]])\n",
    "    \n",
    "    dX = filter2D(img,-1, sobel)\n",
    "    dX = np.where(np.abs(dX) < threshold, 0, dX)\n",
    "\n",
    "    dY = filter2D(img,-1, sobel.T)\n",
    "    dY = np.where(np.abs(dY) < threshold, 0, dY)\n",
    "\n",
    "    return (dX.astype(np.intc), dY.astype(np.intc))"
   ]
  },
  {
   "cell_type": "code",
   "execution_count": 93,
   "metadata": {},
   "outputs": [],
   "source": [
    "@njit\n",
    "def getOrientations(dX, dY):\n",
    "    ''' This function returns the gradient orientations in degrees.\n",
    "        :rtype: int[:, :]\n",
    "    '''\n",
    "    return np.degrees(np.arctan2(dY, dX)).astype(np.intc)"
   ]
  },
  {
   "cell_type": "code",
   "execution_count": 94,
   "metadata": {},
   "outputs": [],
   "source": [
    "@njit(nogil=True, cache=True)\n",
    "def getIndices(dX, dY):\n",
    "    ''' This function returns the indices of the pixels that have at least one non-zero partial derivative.\n",
    "        :rtype: tuple(int[:], int[:])\n",
    "    '''\n",
    "    m, n = dX.shape\n",
    "    I = []\n",
    "    J = []\n",
    "\n",
    "    for i in range(m):\n",
    "        for j in range(n):\n",
    "            if dX[i, j] != 0 or dY[i, j] != 0:\n",
    "                I.append(i)\n",
    "                J.append(j)\n",
    "\n",
    "    return np.array(I).astype(np.intc), np.array(J).astype(np.intc)"
   ]
  },
  {
   "cell_type": "code",
   "execution_count": 95,
   "metadata": {},
   "outputs": [],
   "source": [
    "def buildTable(template, refPoint):\n",
    "    ''' This function returns the RTable of a shape.\n",
    "        :param template: Image of the template shape.\n",
    "        :param refPoint: Reference point used for building the RTable.\n",
    "        :rtype: dict(list) // dict keys are the gradient orientations at the edges and the lists contains\n",
    "        the difference between the reference point and the edge's location.\n",
    "    '''\n",
    "    dX, dY = getSobel(template)\n",
    "    I, J = getIndices(dX, dY)\n",
    "    orientations = getOrientations(dX[I, J], dY[I, J])\n",
    "    \n",
    "    dR_x = I - refPoint[0]\n",
    "    dR_y = J - refPoint[1]\n",
    "\n",
    "    r_table = defaultdict(list)\n",
    "\n",
    "    for k, phi in enumerate(orientations):r_table[phi].append((dR_x[k], dR_y[k]))\n",
    "        \n",
    "    return r_table"
   ]
  },
  {
   "cell_type": "code",
   "execution_count": 96,
   "metadata": {},
   "outputs": [],
   "source": [
    "@njit\n",
    "def getValidIndices(I, J, i_limit, j_limit):\n",
    "    ''' This function is used to ensure that the candidates for reference point in the query image are in the               bounds of the image.\n",
    "        :params I, J: np.ndarray array must be of shape (N,).\n",
    "        :params i_limit, j_limit: The upper bounds that the refPoint must respect.\n",
    "        :rtype: Tuple(list).\n",
    "    '''\n",
    "    I_res = []\n",
    "    J_res = []\n",
    "    \n",
    "    m = len(I)\n",
    "\n",
    "    for i in range(m):\n",
    "        if (I[i] >= 0 and I[i] < i_limit) and (J[i] >= 0 and J[i] < j_limit):\n",
    "            I_res.append(I[i])\n",
    "            J_res.append(J[i])\n",
    "\n",
    "    return I_res, J_res"
   ]
  },
  {
   "cell_type": "code",
   "execution_count": 97,
   "metadata": {},
   "outputs": [],
   "source": [
    "def buildAccum(query_img, r_table):\n",
    "    ''' Takes as input a query image and the R table of the template returns the accumulator.\n",
    "        :param query_image: Grayscale image.\n",
    "        :param r_table: RTable of the target shape.\n",
    "        :rtype: np.ndarray // Same shape as the query image.\n",
    "    '''\n",
    "    m, n = img.shape\n",
    "\n",
    "    dX, dY = getSobel(img, 70)\n",
    "    I, J = getIndices(dX, dY)\n",
    "    orientations = getOrientations(dX[I, J], dY[I, J])\n",
    "\n",
    "    accum = np.empty_like(img).astype(np.uint64)\n",
    "\n",
    "    for phi in r_table.keys():\n",
    "        phi_index = np.argwhere(orientations==phi)  \n",
    "        \n",
    "        I_phi = I[phi_index]\n",
    "        J_phi = J[phi_index]\n",
    "\n",
    "        for dr in r_table[phi]:\n",
    "            I_refs = I_phi + dr[0]\n",
    "            J_refs = J_phi + dr[1]\n",
    "            \n",
    "            N = len(I_refs,)\n",
    "            I_refs = I_refs.reshape((N,))\n",
    "            J_refs = J_refs.reshape((N,))\n",
    "            I_valids, J_valids = getValidIndices(I_refs, J_refs, m, n)\n",
    "    \n",
    "            accum[I_valids, J_valids] += 1\n",
    "\n",
    "    return accum"
   ]
  },
  {
   "cell_type": "code",
   "execution_count": 98,
   "metadata": {},
   "outputs": [],
   "source": [
    "def findMaxima(accum, numOfMaxima, delta):\n",
    "    ''' This function returns the local maximas of the accumulator.\n",
    "        :param accum: The accumulator for the query image.\n",
    "        :param delta: The radius around the local maxima to set to zero.\n",
    "        :rtype: list(tuple)    \n",
    "    '''\n",
    "\n",
    "    maximas = []\n",
    "    \n",
    "    for i in range(numOfMaxima):\n",
    "        \n",
    "        maxima = np.argwhere(accum == np.max(accum))[0]\n",
    "        x, y = maxima[0], maxima[1]\n",
    "        maximas.append((x ,y))\n",
    "        accum[x - delta : x + delta, y - delta : y + delta] = 0\n",
    "        \n",
    "    return maximas"
   ]
  },
  {
   "cell_type": "code",
   "execution_count": 104,
   "metadata": {},
   "outputs": [],
   "source": [
    "tmpl = imread('circle_tmpl.jpg', 0)\n",
    "m, n = tmpl.shape\n",
    "\n",
    "table = buildTable(tmpl, [m//2, n//2])\n",
    "\n",
    "img = imread('circle_tmpl.jpg', 0)\n",
    "accum = buildAccum(img, table)\n",
    "\n",
    "for x in findMaxima(accum, 1, 30):\n",
    "    img[x] = 0\n",
    "\n",
    "show(img)"
   ]
  }
 ]
}