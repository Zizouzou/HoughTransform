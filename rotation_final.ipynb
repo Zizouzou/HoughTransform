{
 "cells": [
  {
   "cell_type": "code",
   "execution_count": 9,
   "metadata": {},
   "outputs": [],
   "source": [
    "import cv2\n",
    "import numpy as np\n",
    "from numba import njit, prange\n",
    "from matplotlib import pyplot as plt"
   ]
  },
  {
   "cell_type": "code",
   "execution_count": 10,
   "metadata": {
    "pycharm": {
     "name": "#%%\n"
    }
   },
   "outputs": [],
   "source": [
    "def add_noise(img, sigma):\n",
    "\n",
    "    noise = np.random.normal(0, sigma, img.shape).astype(np.uint8)\n",
    "    img += noise\n",
    "    cv2.normalize(img, img, 0, 255, cv2.NORM_MINMAX, dtype=-1)\n",
    "\n",
    "@njit(parallel=True, cache=True)\n",
    "def cast_to_int(M):\n",
    "    m, n = M.shape\n",
    "    N = np.empty_like(M, dtype=np.int64)\n",
    "    for i in prange(m):\n",
    "        for j in prange(n):\n",
    "            N[i, j] = int(np.round(M[i, j]))\n",
    "    return N    \n",
    "\n",
    "def calcDist(x, y, ref_pt):\n",
    "\n",
    "    x -= ref_pt[0]\n",
    "    y -= ref_pt[1]\n",
    "\n",
    "def gen_ellipse(axes_length, nb_ellipses, img_shape, resize=False):\n",
    "\n",
    "    m, n = img_shape\n",
    "    img = np.zeros(img_shape, dtype=np.uint8)\n",
    "\n",
    "    if nb_ellipses == 1:\n",
    "        x_c, y_c = m//2, n//2\n",
    "        img = cv2.ellipse(img, (x_c, y_c), axes_length, 0,\n",
    "                          0, 360, (255,255,255), 3)\n",
    "\n",
    "    else:\n",
    "        for _ in range(nb_ellipses):\n",
    "            fact = 1\n",
    "            if resize:\n",
    "                fact = np.random.uniform(0.8, 2)\n",
    "            rotation = np.random.randint(0, 90)\n",
    "            ax_h, ax_v = int(fact * axes_length[0]), int(fact * axes_length[1])\n",
    "\n",
    "            x_c = np.random.randint(ax_h, m - ax_h, dtype=np.int)\n",
    "            y_c = np.random.randint(ax_v, n - ax_v, dtype=np.int)\n",
    "\n",
    "            img = cv2.ellipse(img, (x_c, y_c), (ax_h, ax_v),\n",
    "                              rotation, 0, 360, (255,255,255), 3)\n",
    "    return img\n",
    "\n",
    "@njit\n",
    "def pad(src, size):\n",
    "    m, n = src.shape\n",
    "    dst = np.zeros((m + 2 * size, n + 2 * size), dtype=np.uint8)\n",
    "    dst[size:m + size, size:n + size] = src\n",
    "    return dst\n",
    "\n",
    "@njit\n",
    "def increment(accum, indices, vec_x, vec_y):\n",
    "\n",
    "    for i in indices:\n",
    "        x, y = vec_x[i], vec_y[i]\n",
    "        accum[x, y] += 1\n",
    "\n",
    "def processImage(src, cannyLowThresh = 80, cannyHighThresh = 100):\n",
    "\n",
    "    edges = cv2.Canny(src, cannyLowThresh, cannyHighThresh)\n",
    "    x, y = np.nonzero(edges)\n",
    "\n",
    "    dx = cv2.Sobel(src, cv2.CV_64F, 1, 0)\n",
    "    dy = cv2.Sobel(src, cv2.CV_64F, 0, 1)\n",
    "    angles =  (4 * np.degrees(np.arctan2(dy, dx))).astype(np.int16)\n",
    "    \n",
    "    # new_angles = np.empty_like(angles, dtype=np.float32)\n",
    "    new_angles = angles / 4\n",
    "    \n",
    "    return x, y, new_angles[x, y]\n",
    "\n",
    "def processTmpl(tmpl, ref_pt):\n",
    "    \"\"\"TODO: Create function to find center of mass for refPoint\"\"\"\"\"\n",
    "    m, n = tmpl.shape\n",
    "\n",
    "    if ref_pt == (-1, -1):\n",
    "        ref_pt = (m//2, n//2)\n",
    "\n",
    "    x, y, phi = processImage(tmpl)\n",
    "\n",
    "    calcDist(x, y, ref_pt)\n",
    "    return x, y, phi\n",
    "\n",
    "def processQuery(query, blur, sigma):\n",
    "\n",
    "    if blur:\n",
    "        query = cv2.GaussianBlur(query, (sigma, sigma), 0)\n",
    "\n",
    "    x, y, phi = processImage(query)\n",
    "    return x, y, phi"
   ]
  },
  {
   "cell_type": "code",
   "execution_count": 11,
   "metadata": {},
   "outputs": [],
   "source": [
    "@njit\n",
    "def find_maximas(src, grid_size):\n",
    "    padded_src = pad(src, grid_size)\n",
    "    x_maxs, y_maxs, values = [], [], []\n",
    "    I, J = np.nonzero(padded_src)\n",
    "    for i in range(len(I)):\n",
    "        x, y = I[i], J[i]\n",
    "        value = padded_src[x, y]\n",
    "\n",
    "        grid = np.copy(padded_src[x-grid_size:x+grid_size+1, y-grid_size:y+grid_size + 1])\n",
    "        grid[grid_size, grid_size] = 0\n",
    "\n",
    "        if np.all(value >= grid):\n",
    "            x -= grid_size\n",
    "            y -= grid_size\n",
    "            x_maxs.append(x)\n",
    "            y_maxs.append(y)\n",
    "            values.append(value)\n",
    "    return x_maxs, y_maxs, values\n",
    "\n",
    "@njit\n",
    "def build_table(x, y, phi):\n",
    "    r_table = {}\n",
    "    thetas = np.arange(-180,180,0.25)\n",
    "    for theta in thetas:\n",
    "        indices = np.flatnonzero(phi == theta)\n",
    "        if indices.any():\n",
    "            r_table[theta] = np.vstack((x[indices], y[indices])).T\n",
    "    return r_table\n",
    "\n",
    "\n",
    "@njit\n",
    "def build_accum(x, y, phi, r_table, shape):\n",
    "    m, n = shape\n",
    "    accum = np.zeros(shape, dtype=np.int64)\n",
    "\n",
    "    for angle in r_table:\n",
    "        entries = r_table[angle]\n",
    "        sz = entries.shape[0]\n",
    "        indices = np.flatnonzero(phi == angle)\n",
    "\n",
    "        for i in range(sz):\n",
    "            dx, dy = entries[i][0], entries[i][1]\n",
    "            x_cand, y_cand = x[indices] + dx, y[indices] + dy\n",
    "            cond = (0 <= x_cand) * (x_cand < m) * (0 <= y_cand) * (y_cand < n)\n",
    "            valid_indices = np.flatnonzero(cond)\n",
    "            increment(accum, valid_indices, x_cand, y_cand)\n",
    "\n",
    "    return accum"
   ]
  },
  {
   "cell_type": "code",
   "execution_count": 12,
   "metadata": {
    "pycharm": {
     "name": "#%%\n"
    }
   },
   "outputs": [],
   "source": [
    "@njit\n",
    "def rotate_matrix(M, theta):\n",
    "    theta = np.radians(theta)\n",
    "    cos, sin = np.cos(theta), np.sin(theta)\n",
    "    rotation_matrix = np.array([[cos, -sin], [sin, cos]])\n",
    "    M = M.astype(np.float64) @ rotation_matrix\n",
    "    return cast_to_int(M)\n",
    "\n",
    "\n",
    "@njit\n",
    "def get_keys(table):\n",
    "    keys = []\n",
    "    for _ in table:\n",
    "        keys.append(_)\n",
    "    return keys\n",
    "\n",
    "@njit\n",
    "def threshold_accum(src, factor=1):\n",
    "    nb_pixels = len(np.nonzero(src)[0])\n",
    "    if nb_pixels:\n",
    "        thresh_value = factor * np.sum(src) // nb_pixels\n",
    "        src = np.where(src > thresh_value, src, 0)\n",
    "    return src\n",
    "\n",
    "@njit\n",
    "def rotate_table(table, theta):\n",
    "    new_d = {}\n",
    "    keys = get_keys(table) \n",
    "    for phi in np.arange(-180, 180, 0.25):\n",
    "        new_angle = phi - theta\n",
    "    \n",
    "        if new_angle > 180:\n",
    "            new_angle -= 360\n",
    "            \n",
    "        elif new_angle < -180:\n",
    "            new_angle += 360\n",
    "        \n",
    "        if new_angle in keys:\n",
    "            \n",
    "            new_d[phi] = rotate_matrix(table[new_angle], theta)\n",
    "        \n",
    "    return new_d\n",
    "\n",
    "\n",
    "@njit\n",
    "def build_all_accums(pos_x, pos_y, pos_phi, table, shape, thresh = 3, grid_size=25):\n",
    "    I, J, M = [], [], []\n",
    "    for theta in np.arange(-180, 180, 0.25):\n",
    "        new_table = rotate_table(table, theta)\n",
    "        new_acc = build_accum(pos_x, pos_y, pos_phi, new_table, shape)\n",
    "        new_acc = threshold_accum(new_acc, thresh)\n",
    "        x, y, values = find_maximas(new_acc, grid_size)\n",
    "        if x:\n",
    "            I.append(x)\n",
    "            J.append(y)\n",
    "            M.append(values)        \n",
    "    return I, J, M"
   ]
  },
  {
   "cell_type": "code",
   "execution_count": 13,
   "metadata": {
    "pycharm": {
     "name": "#%%\n"
    }
   },
   "outputs": [],
   "source": [
    "axes_length = (80, 50)\n",
    "shape = (700, 700)\n",
    "noise_level = 0.4\n",
    "nb_ellipses = 4\n",
    "\n",
    "tmpl = gen_ellipse(axes_length, 1, shape)\n",
    "query = gen_ellipse(axes_length, nb_ellipses, shape)\n",
    "add_noise(query, noise_level)"
   ]
  },
  {
   "cell_type": "code",
   "execution_count": 14,
   "metadata": {
    "pycharm": {
     "name": "#%%\n"
    }
   },
   "outputs": [],
   "source": [
    "I, J, Phi = processTmpl(tmpl, (-1, -1))\n",
    "r_table = build_table(I, J, Phi)\n",
    "I, J, Phi = processQuery(query, False, 3)\n",
    "X, Y, V = build_all_accums(I, J, Phi, r_table, shape, 2, 25)\n",
    "X = np.concatenate([np.array(i) for i in X])\n",
    "Y = np.concatenate([np.array(i) for i in Y])\n",
    "V = np.concatenate([np.array(i) for i in V])"
   ]
  },
  {
   "cell_type": "code",
   "execution_count": 15,
   "metadata": {
    "pycharm": {
     "name": "#%%\n"
    }
   },
   "outputs": [
    {
     "data": {
      "text/plain": [
       "[<matplotlib.lines.Line2D at 0x7f97f84ae090>]"
      ]
     },
     "execution_count": 15,
     "metadata": {},
     "output_type": "execute_result"
    },
    {
     "data": {
      "image/png": "[encoded data removed]",
      "text/plain": [
       "<Figure size 432x288 with 2 Axes>"
      ]
     },
     "metadata": {
      "needs_background": "light"
     },
     "output_type": "display_data"
    }
   ],
   "source": [
    "Accum = np.zeros(shape)\n",
    "\n",
    "Accum[X, Y] = V\n",
    "\n",
    "# Essayer un seuillage adaptif\n",
    "Accum = threshold_accum(Accum, 8)\n",
    "\n",
    "x_m, y_m, v_m = find_maximas(Accum, 50)\n",
    "\n",
    "plt.subplot(1, 2, 1)\n",
    "plt.title('Accum')\n",
    "plt.imshow(Accum, cmap='gray')\n",
    "plt.plot(y_m, x_m, 'x')\n",
    "\n",
    "plt.subplot(1, 2, 2)\n",
    "plt.title('Query')\n",
    "plt.imshow(query, cmap='gray')\n",
    "plt.plot(y_m, x_m, 'x')"
   ]
  },
  {
   "cell_type": "code",
   "execution_count": 24,
   "metadata": {},
   "outputs": [],
   "source": [
    "@njit\n",
    "def scale_rotate_matrix(M, theta, scale):\n",
    "    theta = np.radians(theta)\n",
    "    cos, sin = np.cos(theta), np.sin(theta)\n",
    "    rotation_matrix = scale * np.array([[cos, -sin], [sin, cos]])\n",
    "    M = M.astype(np.float64) @ rotation_matrix\n",
    "    return cast_to_int(M)\n",
    "\n",
    "\n",
    "@njit\n",
    "def get_keys(table):\n",
    "    keys = []\n",
    "    for _ in table:\n",
    "        keys.append(_)\n",
    "    return keys\n",
    "\n",
    "@njit\n",
    "def threshold_accum(src, factor=1):\n",
    "    nb_pixels = len(np.nonzero(src)[0])\n",
    "    if nb_pixels:\n",
    "        thresh_value = factor * np.sum(src) // nb_pixels\n",
    "        src = np.where(src > thresh_value, src, 0)\n",
    "    return src\n",
    "\n",
    "@njit\n",
    "def scale_rotate_table(table, theta, scale):\n",
    "    new_d = {}\n",
    "    keys = get_keys(table) \n",
    "    for phi in np.arange(-180, 180, 0.25):\n",
    "        new_angle = phi - theta\n",
    "    \n",
    "        if new_angle > 180:\n",
    "            new_angle -= 360\n",
    "            \n",
    "        elif new_angle < -180:\n",
    "            new_angle += 360\n",
    "        \n",
    "        if new_angle in keys:\n",
    "            \n",
    "            new_d[phi] = scale_rotate_matrix(table[new_angle], theta, scale)\n",
    "        \n",
    "    return new_d\n",
    "\n",
    "\n",
    "@njit\n",
    "def build_all_accums(pos_x, pos_y, pos_phi, table, shape, thresh = 3, grid_size=25):\n",
    "    I, J, M = [], [], []\n",
    "    \n",
    "    for theta in np.arange(-180, 180, 0.25):\n",
    "        for s in np.arange(0.2, 5, 0.01):\n",
    "            new_table = scale_rotate_table(table, theta, s)\n",
    "            new_acc = build_accum(pos_x, pos_y, pos_phi, new_table, shape)\n",
    "            new_acc = threshold_accum(new_acc, thresh)\n",
    "        \n",
    "            x, y, values = find_maximas(new_acc, grid_size)\n",
    "            if x:\n",
    "                I.append(x)\n",
    "                J.append(y)\n",
    "                M.append(values)        \n",
    "    return I, J, M"
   ]
  },
  {
   "cell_type": "code",
   "execution_count": 25,
   "metadata": {},
   "outputs": [],
   "source": [
    "axes_length = (80, 50)\n",
    "shape = (700, 700)\n",
    "noise_level = 0.4\n",
    "nb_ellipses = 4\n",
    "\n",
    "tmpl = gen_ellipse(axes_length, 1, shape)\n",
    "query = gen_ellipse(axes_length, nb_ellipses, shape, resize=True)\n",
    "add_noise(query, noise_level)"
   ]
  },
  {
   "cell_type": "code",
   "execution_count": null,
   "metadata": {},
   "outputs": [],
   "source": [
    "I, J, Phi = processTmpl(tmpl, (-1, -1))\n",
    "r_table = build_table(I, J, Phi)\n",
    "I, J, Phi = processQuery(query, False, 3)\n",
    "X, Y, V = build_all_accums(I, J, Phi, r_table, shape, 2, 25)\n",
    "X = np.concatenate([np.array(i) for i in X])\n",
    "Y = np.concatenate([np.array(i) for i in Y])\n",
    "V = np.concatenate([np.array(i) for i in V])"
   ]
  },
  {
   "cell_type": "code",
   "execution_count": 23,
   "metadata": {},
   "outputs": [
    {
     "data": {
      "text/plain": [
       "[<matplotlib.lines.Line2D at 0x7f97fb287d50>]"
      ]
     },
     "execution_count": 23,
     "metadata": {},
     "output_type": "execute_result"
    },
    {
     "data": {
      "image/png": "[encoded data removed]",
      "text/plain": [
       "<Figure size 432x288 with 2 Axes>"
      ]
     },
     "metadata": {
      "needs_background": "light"
     },
     "output_type": "display_data"
    }
   ],
   "source": [
    "Accum = np.zeros(shape)\n",
    "\n",
    "Accum[X, Y] = V\n",
    "\n",
    "Accum = threshold_accum(Accum, 12)\n",
    "\n",
    "x_m, y_m, v_m = find_maximas(Accum, 50)\n",
    "\n",
    "\n",
    "plt.subplot(1, 2, 1)\n",
    "plt.title('Accum')\n",
    "plt.imshow(Accum, cmap='gray')\n",
    "plt.plot(y_m, x_m, 'x')\n",
    "\n",
    "plt.subplot(1, 2, 2)\n",
    "plt.title('Query')\n",
    "plt.imshow(query, cmap='gray')\n",
    "plt.plot(y_m, x_m, 'x')"
   ]
  }
 ],
 "metadata": {
  "kernelspec": {
   "display_name": "Python 3",
   "language": "python",
   "name": "python3"
  },
  "language_info": {
   "codemirror_mode": {
    "name": "ipython",
    "version": 3
   },
   "file_extension": ".py",
   "mimetype": "text/x-python",
   "name": "python",
   "nbconvert_exporter": "python",
   "pygments_lexer": "ipython3",
   "version": "3.7.5"
  }
 },
 "nbformat": 4,
 "nbformat_minor": 1
}
